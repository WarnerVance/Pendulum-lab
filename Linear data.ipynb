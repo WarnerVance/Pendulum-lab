{
 "cells": [
  {
   "cell_type": "code",
   "outputs": [
    {
     "data": {
      "text/plain": "   Length (m)  Avg. Period\n0       0.787         1.89\n1       0.695         1.71\n2       0.590         1.44\n3       0.500         1.33\n4       0.360         1.21\n5       0.290         1.09",
      "text/html": "<div>\n<style scoped>\n    .dataframe tbody tr th:only-of-type {\n        vertical-align: middle;\n    }\n\n    .dataframe tbody tr th {\n        vertical-align: top;\n    }\n\n    .dataframe thead th {\n        text-align: right;\n    }\n</style>\n<table border=\"1\" class=\"dataframe\">\n  <thead>\n    <tr style=\"text-align: right;\">\n      <th></th>\n      <th>Length (m)</th>\n      <th>Avg. Period</th>\n    </tr>\n  </thead>\n  <tbody>\n    <tr>\n      <th>0</th>\n      <td>0.787</td>\n      <td>1.89</td>\n    </tr>\n    <tr>\n      <th>1</th>\n      <td>0.695</td>\n      <td>1.71</td>\n    </tr>\n    <tr>\n      <th>2</th>\n      <td>0.590</td>\n      <td>1.44</td>\n    </tr>\n    <tr>\n      <th>3</th>\n      <td>0.500</td>\n      <td>1.33</td>\n    </tr>\n    <tr>\n      <th>4</th>\n      <td>0.360</td>\n      <td>1.21</td>\n    </tr>\n    <tr>\n      <th>5</th>\n      <td>0.290</td>\n      <td>1.09</td>\n    </tr>\n  </tbody>\n</table>\n</div>"
     },
     "execution_count": 33,
     "metadata": {},
     "output_type": "execute_result"
    }
   ],
   "source": [
    "import pandas as pd\n",
    "import matplotlib.pyplot as plt\n",
    "import numpy as np\n",
    "import math\n",
    "df = pd.read_csv(\"Linear Data.csv\")\n",
    "df"
   ],
   "metadata": {
    "collapsed": false,
    "ExecuteTime": {
     "end_time": "2024-02-14T23:15:15.106115Z",
     "start_time": "2024-02-14T23:15:15.078380Z"
    }
   },
   "id": "initial_id",
   "execution_count": 33
  },
  {
   "cell_type": "code",
   "outputs": [
    {
     "name": "stdout",
     "output_type": "stream",
     "text": [
      "0.537 0.19182283492848293\n"
     ]
    },
    {
     "data": {
      "text/plain": "0.537"
     },
     "execution_count": 34,
     "metadata": {},
     "output_type": "execute_result"
    }
   ],
   "source": [
    "length_mean = df.iloc[:,0].mean()\n",
    "length_std = df.iloc[:,0].std()\n",
    "print(length_mean, length_std)\n",
    "sum(df.iloc[0:6,0])/6"
   ],
   "metadata": {
    "collapsed": false,
    "ExecuteTime": {
     "end_time": "2024-02-14T23:15:15.107391Z",
     "start_time": "2024-02-14T23:15:15.090339Z"
    }
   },
   "id": "bad0b45685fe671c",
   "execution_count": 34
  },
  {
   "cell_type": "code",
   "outputs": [
    {
     "name": "stdout",
     "output_type": "stream",
     "text": [
      "1.445 0.3042203149035251\n"
     ]
    }
   ],
   "source": [
    "period_mean = df.iloc[:,1].mean()\n",
    "period_std = df.iloc[:,1].std()\n",
    "print(period_mean, period_std)"
   ],
   "metadata": {
    "collapsed": false,
    "ExecuteTime": {
     "end_time": "2024-02-14T23:15:15.107770Z",
     "start_time": "2024-02-14T23:15:15.094882Z"
    }
   },
   "id": "6dcdb2522458ce48",
   "execution_count": 35
  },
  {
   "cell_type": "code",
   "outputs": [],
   "source": [
    "x_variance = []\n",
    "y_variance = []\n",
    "for i in range(6):\n",
    "    x_variance.append((df.iloc[i,0] - length_mean)**2)\n",
    "for i in range(6):\n",
    "    y_variance.append((df.iloc[i,1] - period_mean)**2)"
   ],
   "metadata": {
    "collapsed": false,
    "ExecuteTime": {
     "end_time": "2024-02-14T23:15:15.135938Z",
     "start_time": "2024-02-14T23:15:15.109435Z"
    }
   },
   "id": "672a3f921c42523",
   "execution_count": 36
  },
  {
   "cell_type": "code",
   "outputs": [],
   "source": [
    "df['S_xx'] = x_variance\n",
    "df['S_yy'] = y_variance"
   ],
   "metadata": {
    "collapsed": false,
    "ExecuteTime": {
     "end_time": "2024-02-14T23:15:15.186193Z",
     "start_time": "2024-02-14T23:15:15.139044Z"
    }
   },
   "id": "995d003ac79860e2",
   "execution_count": 37
  },
  {
   "cell_type": "code",
   "outputs": [
    {
     "data": {
      "text/plain": "   Length (m)  Avg. Period      S_xx      S_yy      S_xy\n0       0.787         1.89  0.062500  0.198025  0.111250\n1       0.695         1.71  0.024964  0.070225  0.041870\n2       0.590         1.44  0.002809  0.000025 -0.000265\n3       0.500         1.33  0.001369  0.013225  0.004255\n4       0.360         1.21  0.031329  0.055225  0.041595\n5       0.290         1.09  0.061009  0.126025  0.087685",
      "text/html": "<div>\n<style scoped>\n    .dataframe tbody tr th:only-of-type {\n        vertical-align: middle;\n    }\n\n    .dataframe tbody tr th {\n        vertical-align: top;\n    }\n\n    .dataframe thead th {\n        text-align: right;\n    }\n</style>\n<table border=\"1\" class=\"dataframe\">\n  <thead>\n    <tr style=\"text-align: right;\">\n      <th></th>\n      <th>Length (m)</th>\n      <th>Avg. Period</th>\n      <th>S_xx</th>\n      <th>S_yy</th>\n      <th>S_xy</th>\n    </tr>\n  </thead>\n  <tbody>\n    <tr>\n      <th>0</th>\n      <td>0.787</td>\n      <td>1.89</td>\n      <td>0.062500</td>\n      <td>0.198025</td>\n      <td>0.111250</td>\n    </tr>\n    <tr>\n      <th>1</th>\n      <td>0.695</td>\n      <td>1.71</td>\n      <td>0.024964</td>\n      <td>0.070225</td>\n      <td>0.041870</td>\n    </tr>\n    <tr>\n      <th>2</th>\n      <td>0.590</td>\n      <td>1.44</td>\n      <td>0.002809</td>\n      <td>0.000025</td>\n      <td>-0.000265</td>\n    </tr>\n    <tr>\n      <th>3</th>\n      <td>0.500</td>\n      <td>1.33</td>\n      <td>0.001369</td>\n      <td>0.013225</td>\n      <td>0.004255</td>\n    </tr>\n    <tr>\n      <th>4</th>\n      <td>0.360</td>\n      <td>1.21</td>\n      <td>0.031329</td>\n      <td>0.055225</td>\n      <td>0.041595</td>\n    </tr>\n    <tr>\n      <th>5</th>\n      <td>0.290</td>\n      <td>1.09</td>\n      <td>0.061009</td>\n      <td>0.126025</td>\n      <td>0.087685</td>\n    </tr>\n  </tbody>\n</table>\n</div>"
     },
     "execution_count": 38,
     "metadata": {},
     "output_type": "execute_result"
    }
   ],
   "source": [
    "covariance = []\n",
    "for i in range(6):\n",
    "    covariance.append((df.iloc[i,0] - length_mean)*(df.iloc[i,1] - period_mean))\n",
    "df['S_xy'] = covariance\n",
    "#df.plot(kind='scatter', x='S_xx', y='S_yy')\n",
    "df"
   ],
   "metadata": {
    "collapsed": false,
    "ExecuteTime": {
     "end_time": "2024-02-14T23:15:15.202675Z",
     "start_time": "2024-02-14T23:15:15.154948Z"
    }
   },
   "id": "bf1d867d7a4e7bb4",
   "execution_count": 38
  },
  {
   "cell_type": "code",
   "outputs": [
    {
     "name": "stdout",
     "output_type": "stream",
     "text": [
      "The s_xx sum is 0.18398, the s_yy sum is 0.4627499999999999, and the s_xy sum is 0.28639\n"
     ]
    }
   ],
   "source": [
    "s_xx_sum = sum(df['S_xx'])\n",
    "s_yy_sum = sum(df['S_yy'])\n",
    "s_xy_sum = sum(df['S_xy'])\n",
    "print(f\"The s_xx sum is {s_xx_sum}, the s_yy sum is {s_yy_sum}, and the s_xy sum is {s_xy_sum}\")"
   ],
   "metadata": {
    "collapsed": false,
    "ExecuteTime": {
     "end_time": "2024-02-14T23:15:15.236414Z",
     "start_time": "2024-02-14T23:15:15.205997Z"
    }
   },
   "id": "ab989435b62e06d3",
   "execution_count": 39
  },
  {
   "cell_type": "code",
   "outputs": [
    {
     "name": "stdout",
     "output_type": "stream",
     "text": [
      "r is 0.9815203955758911 and r squared is 0.9633822869314538\n"
     ]
    }
   ],
   "source": [
    "r = s_xy_sum/(math.sqrt(s_xx_sum)*math.sqrt(s_yy_sum))\n",
    "r_squared = r ** 2\n",
    "print(f\"r is {r} and r squared is {r_squared}\")"
   ],
   "metadata": {
    "collapsed": false,
    "ExecuteTime": {
     "end_time": "2024-02-14T23:15:15.249051Z",
     "start_time": "2024-02-14T23:15:15.214058Z"
    }
   },
   "id": "34f580ea2afbe419",
   "execution_count": 40
  },
  {
   "cell_type": "code",
   "outputs": [
    {
     "data": {
      "text/plain": "<Axes: xlabel='Length (m)', ylabel='Avg. Period'>"
     },
     "execution_count": 41,
     "metadata": {},
     "output_type": "execute_result"
    },
    {
     "data": {
      "text/plain": "<Figure size 640x480 with 1 Axes>",
      "image/png": "[encoded data removed]"
     },
     "metadata": {},
     "output_type": "display_data"
    }
   ],
   "source": [
    "df.plot(kind='scatter', x='Length (m)', y='Avg. Period')"
   ],
   "metadata": {
    "collapsed": false,
    "ExecuteTime": {
     "end_time": "2024-02-14T23:15:15.652241Z",
     "start_time": "2024-02-14T23:15:15.241895Z"
    }
   },
   "id": "f43033f234b933f",
   "execution_count": 41
  },
  {
   "cell_type": "code",
   "outputs": [
    {
     "name": "stdout",
     "output_type": "stream",
     "text": [
      "1.556636590933797 0.6090861506685511\n"
     ]
    }
   ],
   "source": [
    "slope = s_xy_sum/s_xx_sum\n",
    "intercept = (period_mean)-(slope*length_mean)\n",
    "print(slope, intercept)"
   ],
   "metadata": {
    "collapsed": false,
    "ExecuteTime": {
     "end_time": "2024-02-14T23:15:15.670845Z",
     "start_time": "2024-02-14T23:15:15.620254Z"
    }
   },
   "id": "49c16de3e4da1e0e",
   "execution_count": 42
  },
  {
   "cell_type": "code",
   "outputs": [
    {
     "data": {
      "text/plain": "[1.0965422806818437,\n 0.9919135767280153,\n 0.8789095112270713,\n 0.7874866510209639,\n 0.6552502992011727,\n 0.5936868344184633]"
     },
     "execution_count": 43,
     "metadata": {},
     "output_type": "execute_result"
    }
   ],
   "source": [
    "squared_error = []\n",
    "for i in range(6):\n",
    "    squared_error.append((df.iloc[i,0]-(slope*df.iloc[i,0])-intercept)**2)\n",
    "squared_error"
   ],
   "metadata": {
    "collapsed": false,
    "ExecuteTime": {
     "end_time": "2024-02-14T23:15:15.671449Z",
     "start_time": "2024-02-14T23:15:15.621025Z"
    }
   },
   "id": "abbbc7a953f941f4",
   "execution_count": 43
  },
  {
   "cell_type": "code",
   "outputs": [
    {
     "data": {
      "text/plain": "5.0037891532775305"
     },
     "execution_count": 44,
     "metadata": {},
     "output_type": "execute_result"
    }
   ],
   "source": [
    "df['Squared Error'] = squared_error\n",
    "SSE = sum(df['Squared Error'])\n",
    "SSE"
   ],
   "metadata": {
    "collapsed": false,
    "ExecuteTime": {
     "end_time": "2024-02-14T23:15:15.671707Z",
     "start_time": "2024-02-14T23:15:15.621224Z"
    }
   },
   "id": "df7bebd3032517a0",
   "execution_count": 44
  },
  {
   "cell_type": "code",
   "outputs": [
    {
     "name": "stdout",
     "output_type": "stream",
     "text": [
      "\n",
      "r is 0.9815203955758911 and r squared is 0.9633822869314538\n",
      "The s_xx sum is 0.18398, the s_yy sum is 0.4627499999999999, and the s_xy sum is 0.28639\n"
     ]
    },
    {
     "data": {
      "text/plain": "   Length (m)  Avg. Period      S_xx      S_yy      S_xy  Squared Error\n0       0.787         1.89  0.062500  0.198025  0.111250       1.096542\n1       0.695         1.71  0.024964  0.070225  0.041870       0.991914\n2       0.590         1.44  0.002809  0.000025 -0.000265       0.878910\n3       0.500         1.33  0.001369  0.013225  0.004255       0.787487\n4       0.360         1.21  0.031329  0.055225  0.041595       0.655250\n5       0.290         1.09  0.061009  0.126025  0.087685       0.593687",
      "text/html": "<div>\n<style scoped>\n    .dataframe tbody tr th:only-of-type {\n        vertical-align: middle;\n    }\n\n    .dataframe tbody tr th {\n        vertical-align: top;\n    }\n\n    .dataframe thead th {\n        text-align: right;\n    }\n</style>\n<table border=\"1\" class=\"dataframe\">\n  <thead>\n    <tr style=\"text-align: right;\">\n      <th></th>\n      <th>Length (m)</th>\n      <th>Avg. Period</th>\n      <th>S_xx</th>\n      <th>S_yy</th>\n      <th>S_xy</th>\n      <th>Squared Error</th>\n    </tr>\n  </thead>\n  <tbody>\n    <tr>\n      <th>0</th>\n      <td>0.787</td>\n      <td>1.89</td>\n      <td>0.062500</td>\n      <td>0.198025</td>\n      <td>0.111250</td>\n      <td>1.096542</td>\n    </tr>\n    <tr>\n      <th>1</th>\n      <td>0.695</td>\n      <td>1.71</td>\n      <td>0.024964</td>\n      <td>0.070225</td>\n      <td>0.041870</td>\n      <td>0.991914</td>\n    </tr>\n    <tr>\n      <th>2</th>\n      <td>0.590</td>\n      <td>1.44</td>\n      <td>0.002809</td>\n      <td>0.000025</td>\n      <td>-0.000265</td>\n      <td>0.878910</td>\n    </tr>\n    <tr>\n      <th>3</th>\n      <td>0.500</td>\n      <td>1.33</td>\n      <td>0.001369</td>\n      <td>0.013225</td>\n      <td>0.004255</td>\n      <td>0.787487</td>\n    </tr>\n    <tr>\n      <th>4</th>\n      <td>0.360</td>\n      <td>1.21</td>\n      <td>0.031329</td>\n      <td>0.055225</td>\n      <td>0.041595</td>\n      <td>0.655250</td>\n    </tr>\n    <tr>\n      <th>5</th>\n      <td>0.290</td>\n      <td>1.09</td>\n      <td>0.061009</td>\n      <td>0.126025</td>\n      <td>0.087685</td>\n      <td>0.593687</td>\n    </tr>\n  </tbody>\n</table>\n</div>"
     },
     "execution_count": 45,
     "metadata": {},
     "output_type": "execute_result"
    }
   ],
   "source": [
    "# This is my final data\n",
    "print()\n",
    "print(f\"r is {r} and r squared is {r_squared}\")\n",
    "print(f\"The s_xx sum is {s_xx_sum}, the s_yy sum is {s_yy_sum}, and the s_xy sum is {s_xy_sum}\")\n",
    "df"
   ],
   "metadata": {
    "collapsed": false,
    "ExecuteTime": {
     "end_time": "2024-02-14T23:15:15.672357Z",
     "start_time": "2024-02-14T23:15:15.621333Z"
    }
   },
   "id": "412576d0f779bdef",
   "execution_count": 45
  },
  {
   "cell_type": "code",
   "outputs": [
    {
     "data": {
      "text/plain": "<Figure size 640x480 with 1 Axes>",
      "image/png": "[encoded data removed]"
     },
     "metadata": {},
     "output_type": "display_data"
    }
   ],
   "source": [
    "plt.scatter(df['Length (m)'], df['Avg. Period'])\n",
    "plt.xlabel('Length (m)')\n",
    "plt.ylabel('Avg. Period')\n",
    "plt.show()\n",
    "# I wasn't able to find out the line of best fit"
   ],
   "metadata": {
    "collapsed": false,
    "ExecuteTime": {
     "end_time": "2024-02-14T23:24:36.445276Z",
     "start_time": "2024-02-14T23:24:36.192309Z"
    }
   },
   "id": "cdd10fe7b13acef9",
   "execution_count": 63
  }
 ],
 "metadata": {
  "kernelspec": {
   "display_name": "Python 3",
   "language": "python",
   "name": "python3"
  },
  "language_info": {
   "codemirror_mode": {
    "name": "ipython",
    "version": 2
   },
   "file_extension": ".py",
   "mimetype": "text/x-python",
   "name": "python",
   "nbconvert_exporter": "python",
   "pygments_lexer": "ipython2",
   "version": "2.7.6"
  }
 },
 "nbformat": 4,
 "nbformat_minor": 5
}
