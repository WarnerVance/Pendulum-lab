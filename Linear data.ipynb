{
 "cells": [
  {
   "cell_type": "code",
   "outputs": [
    {
     "data": {
      "text/plain": "   Length (m)  Avg. Period\n0       0.787         1.89\n1       0.695         1.71\n2       0.590         1.44\n3       0.500         1.33\n4       0.360         1.21\n5       0.290         1.09",
      "text/html": "<div>\n<style scoped>\n    .dataframe tbody tr th:only-of-type {\n        vertical-align: middle;\n    }\n\n    .dataframe tbody tr th {\n        vertical-align: top;\n    }\n\n    .dataframe thead th {\n        text-align: right;\n    }\n</style>\n<table border=\"1\" class=\"dataframe\">\n  <thead>\n    <tr style=\"text-align: right;\">\n      <th></th>\n      <th>Length (m)</th>\n      <th>Avg. Period</th>\n    </tr>\n  </thead>\n  <tbody>\n    <tr>\n      <th>0</th>\n      <td>0.787</td>\n      <td>1.89</td>\n    </tr>\n    <tr>\n      <th>1</th>\n      <td>0.695</td>\n      <td>1.71</td>\n    </tr>\n    <tr>\n      <th>2</th>\n      <td>0.590</td>\n      <td>1.44</td>\n    </tr>\n    <tr>\n      <th>3</th>\n      <td>0.500</td>\n      <td>1.33</td>\n    </tr>\n    <tr>\n      <th>4</th>\n      <td>0.360</td>\n      <td>1.21</td>\n    </tr>\n    <tr>\n      <th>5</th>\n      <td>0.290</td>\n      <td>1.09</td>\n    </tr>\n  </tbody>\n</table>\n</div>"
     },
     "execution_count": 2,
     "metadata": {},
     "output_type": "execute_result"
    }
   ],
   "source": [
    "import pandas as pd\n",
    "import matplotlib.pyplot as plt\n",
    "import math\n",
    "df = pd.read_csv(\"Linear Data.csv\")\n",
    "df"
   ],
   "metadata": {
    "collapsed": false,
    "ExecuteTime": {
     "end_time": "2024-02-15T05:43:05.299620Z",
     "start_time": "2024-02-15T05:43:05.249869Z"
    }
   },
   "id": "initial_id",
   "execution_count": 2
  },
  {
   "cell_type": "code",
   "outputs": [
    {
     "name": "stdout",
     "output_type": "stream",
     "text": [
      "0.537 0.19182283492848293\n"
     ]
    },
    {
     "data": {
      "text/plain": "0.537"
     },
     "execution_count": 3,
     "metadata": {},
     "output_type": "execute_result"
    }
   ],
   "source": [
    "length_mean = df.iloc[:,0].mean()\n",
    "length_std = df.iloc[:,0].std()\n",
    "print(length_mean, length_std)\n",
    "sum(df.iloc[0:6,0])/6"
   ],
   "metadata": {
    "collapsed": false,
    "ExecuteTime": {
     "end_time": "2024-02-15T05:43:05.301205Z",
     "start_time": "2024-02-15T05:43:05.269034Z"
    }
   },
   "id": "bad0b45685fe671c",
   "execution_count": 3
  },
  {
   "cell_type": "code",
   "outputs": [
    {
     "name": "stdout",
     "output_type": "stream",
     "text": [
      "1.445 0.3042203149035251\n"
     ]
    }
   ],
   "source": [
    "period_mean = df.iloc[:,1].mean()\n",
    "period_std = df.iloc[:,1].std()\n",
    "print(period_mean, period_std)"
   ],
   "metadata": {
    "collapsed": false,
    "ExecuteTime": {
     "end_time": "2024-02-15T05:43:05.302961Z",
     "start_time": "2024-02-15T05:43:05.285276Z"
    }
   },
   "id": "6dcdb2522458ce48",
   "execution_count": 4
  },
  {
   "cell_type": "code",
   "outputs": [],
   "source": [
    "x_variance = []\n",
    "y_variance = []\n",
    "for i in range(6):\n",
    "    x_variance.append((df.iloc[i,0] - length_mean)**2)\n",
    "for i in range(6):\n",
    "    y_variance.append((df.iloc[i,1] - period_mean)**2)"
   ],
   "metadata": {
    "collapsed": false,
    "ExecuteTime": {
     "end_time": "2024-02-15T05:43:05.368564Z",
     "start_time": "2024-02-15T05:43:05.306549Z"
    }
   },
   "id": "672a3f921c42523",
   "execution_count": 5
  },
  {
   "cell_type": "code",
   "outputs": [],
   "source": [
    "df['S_xx'] = x_variance\n",
    "df['S_yy'] = y_variance"
   ],
   "metadata": {
    "collapsed": false,
    "ExecuteTime": {
     "end_time": "2024-02-15T05:43:05.398611Z",
     "start_time": "2024-02-15T05:43:05.342699Z"
    }
   },
   "id": "995d003ac79860e2",
   "execution_count": 6
  },
  {
   "cell_type": "code",
   "outputs": [
    {
     "data": {
      "text/plain": "   Length (m)  Avg. Period      S_xx      S_yy      S_xy\n0       0.787         1.89  0.062500  0.198025  0.111250\n1       0.695         1.71  0.024964  0.070225  0.041870\n2       0.590         1.44  0.002809  0.000025 -0.000265\n3       0.500         1.33  0.001369  0.013225  0.004255\n4       0.360         1.21  0.031329  0.055225  0.041595\n5       0.290         1.09  0.061009  0.126025  0.087685",
      "text/html": "<div>\n<style scoped>\n    .dataframe tbody tr th:only-of-type {\n        vertical-align: middle;\n    }\n\n    .dataframe tbody tr th {\n        vertical-align: top;\n    }\n\n    .dataframe thead th {\n        text-align: right;\n    }\n</style>\n<table border=\"1\" class=\"dataframe\">\n  <thead>\n    <tr style=\"text-align: right;\">\n      <th></th>\n      <th>Length (m)</th>\n      <th>Avg. Period</th>\n      <th>S_xx</th>\n      <th>S_yy</th>\n      <th>S_xy</th>\n    </tr>\n  </thead>\n  <tbody>\n    <tr>\n      <th>0</th>\n      <td>0.787</td>\n      <td>1.89</td>\n      <td>0.062500</td>\n      <td>0.198025</td>\n      <td>0.111250</td>\n    </tr>\n    <tr>\n      <th>1</th>\n      <td>0.695</td>\n      <td>1.71</td>\n      <td>0.024964</td>\n      <td>0.070225</td>\n      <td>0.041870</td>\n    </tr>\n    <tr>\n      <th>2</th>\n      <td>0.590</td>\n      <td>1.44</td>\n      <td>0.002809</td>\n      <td>0.000025</td>\n      <td>-0.000265</td>\n    </tr>\n    <tr>\n      <th>3</th>\n      <td>0.500</td>\n      <td>1.33</td>\n      <td>0.001369</td>\n      <td>0.013225</td>\n      <td>0.004255</td>\n    </tr>\n    <tr>\n      <th>4</th>\n      <td>0.360</td>\n      <td>1.21</td>\n      <td>0.031329</td>\n      <td>0.055225</td>\n      <td>0.041595</td>\n    </tr>\n    <tr>\n      <th>5</th>\n      <td>0.290</td>\n      <td>1.09</td>\n      <td>0.061009</td>\n      <td>0.126025</td>\n      <td>0.087685</td>\n    </tr>\n  </tbody>\n</table>\n</div>"
     },
     "execution_count": 7,
     "metadata": {},
     "output_type": "execute_result"
    }
   ],
   "source": [
    "covariance = []\n",
    "for i in range(6):\n",
    "    covariance.append((df.iloc[i,0] - length_mean)*(df.iloc[i,1] - period_mean))\n",
    "df['S_xy'] = covariance\n",
    "#df.plot(kind='scatter', x='S_xx', y='S_yy')\n",
    "df"
   ],
   "metadata": {
    "collapsed": false,
    "ExecuteTime": {
     "end_time": "2024-02-15T05:43:05.491697Z",
     "start_time": "2024-02-15T05:43:05.411827Z"
    }
   },
   "id": "bf1d867d7a4e7bb4",
   "execution_count": 7
  },
  {
   "cell_type": "code",
   "outputs": [
    {
     "name": "stdout",
     "output_type": "stream",
     "text": [
      "The s_xx sum is 0.18398, the s_yy sum is 0.4627499999999999, and the s_xy sum is 0.28639\n"
     ]
    }
   ],
   "source": [
    "s_xx_sum = sum(df['S_xx'])\n",
    "s_yy_sum = sum(df['S_yy'])\n",
    "s_xy_sum = sum(df['S_xy'])\n",
    "print(f\"The s_xx sum is {s_xx_sum}, the s_yy sum is {s_yy_sum}, and the s_xy sum is {s_xy_sum}\")"
   ],
   "metadata": {
    "collapsed": false,
    "ExecuteTime": {
     "end_time": "2024-02-15T05:43:05.505725Z",
     "start_time": "2024-02-15T05:43:05.458335Z"
    }
   },
   "id": "ab989435b62e06d3",
   "execution_count": 8
  },
  {
   "cell_type": "code",
   "outputs": [
    {
     "name": "stdout",
     "output_type": "stream",
     "text": [
      "r is 0.9815203955758911 and r squared is 0.9633822869314538\n"
     ]
    }
   ],
   "source": [
    "r = s_xy_sum/(math.sqrt(s_xx_sum)*math.sqrt(s_yy_sum))\n",
    "r_squared = r ** 2\n",
    "print(f\"r is {r} and r squared is {r_squared}\")"
   ],
   "metadata": {
    "collapsed": false,
    "ExecuteTime": {
     "end_time": "2024-02-15T05:43:05.519450Z",
     "start_time": "2024-02-15T05:43:05.501888Z"
    }
   },
   "id": "34f580ea2afbe419",
   "execution_count": 9
  },
  {
   "cell_type": "code",
   "outputs": [
    {
     "data": {
      "text/plain": "<Axes: xlabel='Length (m)', ylabel='Avg. Period'>"
     },
     "execution_count": 10,
     "metadata": {},
     "output_type": "execute_result"
    },
    {
     "data": {
      "text/plain": "<Figure size 640x480 with 1 Axes>",
      "image/png": "[encoded data removed]"
     },
     "metadata": {},
     "output_type": "display_data"
    }
   ],
   "source": [
    "df.plot(kind='scatter', x='Length (m)', y='Avg. Period')"
   ],
   "metadata": {
    "collapsed": false,
    "ExecuteTime": {
     "end_time": "2024-02-15T05:43:06.110056Z",
     "start_time": "2024-02-15T05:43:05.522475Z"
    }
   },
   "id": "f43033f234b933f",
   "execution_count": 10
  },
  {
   "cell_type": "code",
   "outputs": [
    {
     "name": "stdout",
     "output_type": "stream",
     "text": [
      "1.556636590933797 0.6090861506685511\n"
     ]
    }
   ],
   "source": [
    "slope = s_xy_sum/s_xx_sum\n",
    "intercept = (period_mean)-(slope*length_mean)\n",
    "print(slope, intercept)"
   ],
   "metadata": {
    "collapsed": false,
    "ExecuteTime": {
     "end_time": "2024-02-15T05:43:06.115237Z",
     "start_time": "2024-02-15T05:43:06.108447Z"
    }
   },
   "id": "49c16de3e4da1e0e",
   "execution_count": 11
  },
  {
   "cell_type": "code",
   "outputs": [
    {
     "data": {
      "text/plain": "[0.003118200781854749,\n 0.00036295655190924254,\n 0.007656554383936198,\n 0.0032952704361177212,\n 0.001642249413152199,\n 0.0008696151554997201]"
     },
     "execution_count": 12,
     "metadata": {},
     "output_type": "execute_result"
    }
   ],
   "source": [
    "squared_error = []\n",
    "for i in range(6):\n",
    "    squared_error.append((df.iloc[i,1]-(slope*df.iloc[i,0]+intercept)) ** 2)\n",
    "squared_error"
   ],
   "metadata": {
    "collapsed": false,
    "ExecuteTime": {
     "end_time": "2024-02-15T05:43:06.135916Z",
     "start_time": "2024-02-15T05:43:06.114264Z"
    }
   },
   "id": "abbbc7a953f941f4",
   "execution_count": 12
  },
  {
   "cell_type": "code",
   "outputs": [
    {
     "data": {
      "text/plain": "0.01694484672246983"
     },
     "execution_count": 13,
     "metadata": {},
     "output_type": "execute_result"
    }
   ],
   "source": [
    "df['Squared Error'] = squared_error\n",
    "SSE = sum(df['Squared Error'])\n",
    "SSE"
   ],
   "metadata": {
    "collapsed": false,
    "ExecuteTime": {
     "end_time": "2024-02-15T05:43:06.136634Z",
     "start_time": "2024-02-15T05:43:06.126808Z"
    }
   },
   "id": "df7bebd3032517a0",
   "execution_count": 13
  },
  {
   "cell_type": "code",
   "outputs": [
    {
     "name": "stdout",
     "output_type": "stream",
     "text": [
      "r is 0.9815203955758911 and r squared is 0.9633822869314538\n",
      "The s_xx sum is 0.18398, the s_yy sum is 0.4627499999999999, and the s_xy sum is 0.28639\n",
      "\n",
      "SSE is 0.01694484672246983\n",
      "\n",
      "Slope is 1.556636590933797\n",
      "Intercept is 0.6090861506685511\n"
     ]
    }
   ],
   "source": [
    "# This is my final data\n",
    "print(f\"r is {r} and r squared is {r_squared}\")\n",
    "print(f\"The s_xx sum is {s_xx_sum}, the s_yy sum is {s_yy_sum}, and the s_xy sum is {s_xy_sum}\\n\")\n",
    "print(f'SSE is {SSE}\\n')\n",
    "print(f'Slope is {slope}')\n",
    "print(f'Intercept is {intercept}')"
   ],
   "metadata": {
    "collapsed": false,
    "ExecuteTime": {
     "end_time": "2024-02-15T05:43:06.252954Z",
     "start_time": "2024-02-15T05:43:06.130208Z"
    }
   },
   "id": "412576d0f779bdef",
   "execution_count": 14
  },
  {
   "cell_type": "code",
   "outputs": [
    {
     "data": {
      "text/plain": "   Length (m)  Avg. Period      S_xx      S_yy      S_xy  Squared Error\n0       0.787         1.89  0.062500  0.198025  0.111250       0.003118\n1       0.695         1.71  0.024964  0.070225  0.041870       0.000363\n2       0.590         1.44  0.002809  0.000025 -0.000265       0.007657\n3       0.500         1.33  0.001369  0.013225  0.004255       0.003295\n4       0.360         1.21  0.031329  0.055225  0.041595       0.001642\n5       0.290         1.09  0.061009  0.126025  0.087685       0.000870",
      "text/html": "<div>\n<style scoped>\n    .dataframe tbody tr th:only-of-type {\n        vertical-align: middle;\n    }\n\n    .dataframe tbody tr th {\n        vertical-align: top;\n    }\n\n    .dataframe thead th {\n        text-align: right;\n    }\n</style>\n<table border=\"1\" class=\"dataframe\">\n  <thead>\n    <tr style=\"text-align: right;\">\n      <th></th>\n      <th>Length (m)</th>\n      <th>Avg. Period</th>\n      <th>S_xx</th>\n      <th>S_yy</th>\n      <th>S_xy</th>\n      <th>Squared Error</th>\n    </tr>\n  </thead>\n  <tbody>\n    <tr>\n      <th>0</th>\n      <td>0.787</td>\n      <td>1.89</td>\n      <td>0.062500</td>\n      <td>0.198025</td>\n      <td>0.111250</td>\n      <td>0.003118</td>\n    </tr>\n    <tr>\n      <th>1</th>\n      <td>0.695</td>\n      <td>1.71</td>\n      <td>0.024964</td>\n      <td>0.070225</td>\n      <td>0.041870</td>\n      <td>0.000363</td>\n    </tr>\n    <tr>\n      <th>2</th>\n      <td>0.590</td>\n      <td>1.44</td>\n      <td>0.002809</td>\n      <td>0.000025</td>\n      <td>-0.000265</td>\n      <td>0.007657</td>\n    </tr>\n    <tr>\n      <th>3</th>\n      <td>0.500</td>\n      <td>1.33</td>\n      <td>0.001369</td>\n      <td>0.013225</td>\n      <td>0.004255</td>\n      <td>0.003295</td>\n    </tr>\n    <tr>\n      <th>4</th>\n      <td>0.360</td>\n      <td>1.21</td>\n      <td>0.031329</td>\n      <td>0.055225</td>\n      <td>0.041595</td>\n      <td>0.001642</td>\n    </tr>\n    <tr>\n      <th>5</th>\n      <td>0.290</td>\n      <td>1.09</td>\n      <td>0.061009</td>\n      <td>0.126025</td>\n      <td>0.087685</td>\n      <td>0.000870</td>\n    </tr>\n  </tbody>\n</table>\n</div>"
     },
     "execution_count": 20,
     "metadata": {},
     "output_type": "execute_result"
    }
   ],
   "source": [
    "df"
   ],
   "metadata": {
    "collapsed": false,
    "ExecuteTime": {
     "end_time": "2024-02-15T05:44:44.184404Z",
     "start_time": "2024-02-15T05:44:44.177322Z"
    }
   },
   "id": "cdd10fe7b13acef9",
   "execution_count": 20
  },
  {
   "cell_type": "code",
   "outputs": [
    {
     "data": {
      "text/plain": "<Axes: xlabel='Length (m)', ylabel='Avg. Period'>"
     },
     "execution_count": 28,
     "metadata": {},
     "output_type": "execute_result"
    },
    {
     "data": {
      "text/plain": "<Figure size 640x480 with 1 Axes>",
      "image/png": "[encoded data removed]"
     },
     "metadata": {},
     "output_type": "display_data"
    }
   ],
   "source": [
    "import seaborn as sns\n",
    "sns.regplot(data=df, x=\"Length (m)\", y=\"Avg. Period\", ci=None, label=\"Hello\")"
   ],
   "metadata": {
    "collapsed": false,
    "ExecuteTime": {
     "end_time": "2024-02-15T05:50:31.391815Z",
     "start_time": "2024-02-15T05:50:31.185229Z"
    }
   },
   "id": "56120d894fbabe58",
   "execution_count": 28
  }
 ],
 "metadata": {
  "kernelspec": {
   "display_name": "Python 3",
   "language": "python",
   "name": "python3"
  },
  "language_info": {
   "codemirror_mode": {
    "name": "ipython",
    "version": 2
   },
   "file_extension": ".py",
   "mimetype": "text/x-python",
   "name": "python",
   "nbconvert_exporter": "python",
   "pygments_lexer": "ipython2",
   "version": "2.7.6"
  }
 },
 "nbformat": 4,
 "nbformat_minor": 5
}
