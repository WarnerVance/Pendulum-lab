{
 "cells": [
  {
   "cell_type": "code",
   "execution_count": 29,
   "id": "initial_id",
   "metadata": {
    "collapsed": true,
    "ExecuteTime": {
     "end_time": "2024-02-14T17:19:48.227513Z",
     "start_time": "2024-02-14T17:19:48.187950Z"
    }
   },
   "outputs": [
    {
     "data": {
      "text/plain": "   Length (m)  Avg. Period\n0        0.79         1.89\n1        0.70         1.71\n2        0.59         1.44\n3        0.50         1.33\n4        0.36         1.21\n5        0.29         1.09",
      "text/html": "<div>\n<style scoped>\n    .dataframe tbody tr th:only-of-type {\n        vertical-align: middle;\n    }\n\n    .dataframe tbody tr th {\n        vertical-align: top;\n    }\n\n    .dataframe thead th {\n        text-align: right;\n    }\n</style>\n<table border=\"1\" class=\"dataframe\">\n  <thead>\n    <tr style=\"text-align: right;\">\n      <th></th>\n      <th>Length (m)</th>\n      <th>Avg. Period</th>\n    </tr>\n  </thead>\n  <tbody>\n    <tr>\n      <th>0</th>\n      <td>0.79</td>\n      <td>1.89</td>\n    </tr>\n    <tr>\n      <th>1</th>\n      <td>0.70</td>\n      <td>1.71</td>\n    </tr>\n    <tr>\n      <th>2</th>\n      <td>0.59</td>\n      <td>1.44</td>\n    </tr>\n    <tr>\n      <th>3</th>\n      <td>0.50</td>\n      <td>1.33</td>\n    </tr>\n    <tr>\n      <th>4</th>\n      <td>0.36</td>\n      <td>1.21</td>\n    </tr>\n    <tr>\n      <th>5</th>\n      <td>0.29</td>\n      <td>1.09</td>\n    </tr>\n  </tbody>\n</table>\n</div>"
     },
     "execution_count": 29,
     "metadata": {},
     "output_type": "execute_result"
    }
   ],
   "source": [
    "import pandas as pd\n",
    "import math\n",
    "df = pd.read_csv(\"New Spreadsheet - Sheet1.csv\")\n",
    "df"
   ]
  },
  {
   "cell_type": "code",
   "outputs": [
    {
     "name": "stdout",
     "output_type": "stream",
     "text": [
      "0.5383333333333333 0.19343388189938873\n"
     ]
    }
   ],
   "source": [
    "length_mean = df.iloc[:,0].mean()\n",
    "length_std = df.iloc[:,0].std()\n",
    "print(length_mean, length_std)"
   ],
   "metadata": {
    "collapsed": false,
    "ExecuteTime": {
     "end_time": "2024-02-14T17:19:48.229601Z",
     "start_time": "2024-02-14T17:19:48.196011Z"
    }
   },
   "id": "bad0b45685fe671c",
   "execution_count": 30
  },
  {
   "cell_type": "code",
   "outputs": [
    {
     "name": "stdout",
     "output_type": "stream",
     "text": [
      "1.445 0.3042203149035251\n"
     ]
    }
   ],
   "source": [
    "period_mean = df.iloc[:,1].mean()\n",
    "period_std = df.iloc[:,1].std()\n",
    "print(period_mean, period_std)"
   ],
   "metadata": {
    "collapsed": false,
    "ExecuteTime": {
     "end_time": "2024-02-14T17:19:48.229873Z",
     "start_time": "2024-02-14T17:19:48.199678Z"
    }
   },
   "id": "6dcdb2522458ce48",
   "execution_count": 31
  },
  {
   "cell_type": "code",
   "outputs": [
    {
     "data": {
      "text/plain": "0.025599999999999973"
     },
     "execution_count": 32,
     "metadata": {},
     "output_type": "execute_result"
    }
   ],
   "source": [
    "(0.70-0.54)**2"
   ],
   "metadata": {
    "collapsed": false,
    "ExecuteTime": {
     "end_time": "2024-02-14T17:19:48.230233Z",
     "start_time": "2024-02-14T17:19:48.204292Z"
    }
   },
   "id": "96f916fbddb33cd8",
   "execution_count": 32
  },
  {
   "cell_type": "code",
   "outputs": [],
   "source": [
    "x_variance = []\n",
    "y_variance = []\n",
    "for i in range(6):\n",
    "    x_variance.append((df.iloc[i,0] - length_mean)**2)\n",
    "for i in range(6):\n",
    "    y_variance.append((df.iloc[i,1] - period_mean)**2)"
   ],
   "metadata": {
    "collapsed": false,
    "ExecuteTime": {
     "end_time": "2024-02-14T17:19:48.230483Z",
     "start_time": "2024-02-14T17:19:48.208561Z"
    }
   },
   "id": "672a3f921c42523",
   "execution_count": 33
  },
  {
   "cell_type": "code",
   "outputs": [],
   "source": [
    "df['S_xx'] = x_variance\n",
    "df['S_yy'] = y_variance"
   ],
   "metadata": {
    "collapsed": false,
    "ExecuteTime": {
     "end_time": "2024-02-14T17:19:48.230691Z",
     "start_time": "2024-02-14T17:19:48.211971Z"
    }
   },
   "id": "995d003ac79860e2",
   "execution_count": 34
  },
  {
   "cell_type": "code",
   "outputs": [
    {
     "data": {
      "text/plain": "   Length (m)  Avg. Period      S_xx      S_yy      S_xy\n0        0.79         1.89  0.063336  0.198025  0.111992\n1        0.70         1.71  0.026136  0.070225  0.042842\n2        0.59         1.44  0.002669  0.000025 -0.000258\n3        0.50         1.33  0.001469  0.013225  0.004408\n4        0.36         1.21  0.031803  0.055225  0.041908\n5        0.29         1.09  0.061669  0.126025  0.088158",
      "text/html": "<div>\n<style scoped>\n    .dataframe tbody tr th:only-of-type {\n        vertical-align: middle;\n    }\n\n    .dataframe tbody tr th {\n        vertical-align: top;\n    }\n\n    .dataframe thead th {\n        text-align: right;\n    }\n</style>\n<table border=\"1\" class=\"dataframe\">\n  <thead>\n    <tr style=\"text-align: right;\">\n      <th></th>\n      <th>Length (m)</th>\n      <th>Avg. Period</th>\n      <th>S_xx</th>\n      <th>S_yy</th>\n      <th>S_xy</th>\n    </tr>\n  </thead>\n  <tbody>\n    <tr>\n      <th>0</th>\n      <td>0.79</td>\n      <td>1.89</td>\n      <td>0.063336</td>\n      <td>0.198025</td>\n      <td>0.111992</td>\n    </tr>\n    <tr>\n      <th>1</th>\n      <td>0.70</td>\n      <td>1.71</td>\n      <td>0.026136</td>\n      <td>0.070225</td>\n      <td>0.042842</td>\n    </tr>\n    <tr>\n      <th>2</th>\n      <td>0.59</td>\n      <td>1.44</td>\n      <td>0.002669</td>\n      <td>0.000025</td>\n      <td>-0.000258</td>\n    </tr>\n    <tr>\n      <th>3</th>\n      <td>0.50</td>\n      <td>1.33</td>\n      <td>0.001469</td>\n      <td>0.013225</td>\n      <td>0.004408</td>\n    </tr>\n    <tr>\n      <th>4</th>\n      <td>0.36</td>\n      <td>1.21</td>\n      <td>0.031803</td>\n      <td>0.055225</td>\n      <td>0.041908</td>\n    </tr>\n    <tr>\n      <th>5</th>\n      <td>0.29</td>\n      <td>1.09</td>\n      <td>0.061669</td>\n      <td>0.126025</td>\n      <td>0.088158</td>\n    </tr>\n  </tbody>\n</table>\n</div>"
     },
     "execution_count": 35,
     "metadata": {},
     "output_type": "execute_result"
    }
   ],
   "source": [
    "covariance = []\n",
    "for i in range(6):\n",
    "    covariance.append((df.iloc[i,0] - length_mean)*(df.iloc[i,1] - period_mean))\n",
    "df['S_xy'] = covariance\n",
    "#df.plot(kind='scatter', x='S_xx', y='S_yy')\n",
    "df"
   ],
   "metadata": {
    "collapsed": false,
    "ExecuteTime": {
     "end_time": "2024-02-14T17:19:48.259051Z",
     "start_time": "2024-02-14T17:19:48.218963Z"
    }
   },
   "id": "bf1d867d7a4e7bb4",
   "execution_count": 35
  },
  {
   "cell_type": "code",
   "outputs": [
    {
     "name": "stdout",
     "output_type": "stream",
     "text": [
      "0.18708333333333335 0.4627499999999999 0.28905\n"
     ]
    }
   ],
   "source": [
    "s_xx_sum = sum(df['S_xx'])\n",
    "s_yy_sum = sum(df['S_yy'])\n",
    "s_xy_sum = sum(df['S_xy'])\n",
    "print(s_xx_sum, s_yy_sum, s_xy_sum)"
   ],
   "metadata": {
    "collapsed": false,
    "ExecuteTime": {
     "end_time": "2024-02-14T17:19:48.259395Z",
     "start_time": "2024-02-14T17:19:48.223309Z"
    }
   },
   "id": "ab989435b62e06d3",
   "execution_count": 36
  },
  {
   "cell_type": "code",
   "outputs": [
    {
     "name": "stdout",
     "output_type": "stream",
     "text": [
      "r = 0.9823861032611908 and r squared = 0.9650824558807071\n"
     ]
    }
   ],
   "source": [
    "r = s_xy_sum/(math.sqrt(s_xx_sum)*math.sqrt(s_yy_sum))\n",
    "r_squared = r ** 2\n",
    "print(f\"r = {r} and r squared = {r_squared}\")"
   ],
   "metadata": {
    "collapsed": false,
    "ExecuteTime": {
     "end_time": "2024-02-14T17:19:48.275431Z",
     "start_time": "2024-02-14T17:19:48.232613Z"
    }
   },
   "id": "34f580ea2afbe419",
   "execution_count": 37
  },
  {
   "cell_type": "code",
   "outputs": [
    {
     "data": {
      "text/plain": "<Axes: xlabel='Length (m)', ylabel='Avg. Period'>"
     },
     "execution_count": 38,
     "metadata": {},
     "output_type": "execute_result"
    },
    {
     "data": {
      "text/plain": "<Figure size 640x480 with 1 Axes>",
      "image/png": "[encoded data removed]"
     },
     "metadata": {},
     "output_type": "display_data"
    }
   ],
   "source": [
    "df.plot(kind='scatter', x='Length (m)', y='Avg. Period')"
   ],
   "metadata": {
    "collapsed": false,
    "ExecuteTime": {
     "end_time": "2024-02-14T17:19:48.401963Z",
     "start_time": "2024-02-14T17:19:48.264736Z"
    }
   },
   "id": "f43033f234b933f",
   "execution_count": 38
  },
  {
   "cell_type": "code",
   "outputs": [
    {
     "data": {
      "text/plain": "   Length (m)  Avg. Period      S_xx      S_yy      S_xy\n0        0.79         1.89  0.063336  0.198025  0.111992\n1        0.70         1.71  0.026136  0.070225  0.042842\n2        0.59         1.44  0.002669  0.000025 -0.000258\n3        0.50         1.33  0.001469  0.013225  0.004408\n4        0.36         1.21  0.031803  0.055225  0.041908\n5        0.29         1.09  0.061669  0.126025  0.088158",
      "text/html": "<div>\n<style scoped>\n    .dataframe tbody tr th:only-of-type {\n        vertical-align: middle;\n    }\n\n    .dataframe tbody tr th {\n        vertical-align: top;\n    }\n\n    .dataframe thead th {\n        text-align: right;\n    }\n</style>\n<table border=\"1\" class=\"dataframe\">\n  <thead>\n    <tr style=\"text-align: right;\">\n      <th></th>\n      <th>Length (m)</th>\n      <th>Avg. Period</th>\n      <th>S_xx</th>\n      <th>S_yy</th>\n      <th>S_xy</th>\n    </tr>\n  </thead>\n  <tbody>\n    <tr>\n      <th>0</th>\n      <td>0.79</td>\n      <td>1.89</td>\n      <td>0.063336</td>\n      <td>0.198025</td>\n      <td>0.111992</td>\n    </tr>\n    <tr>\n      <th>1</th>\n      <td>0.70</td>\n      <td>1.71</td>\n      <td>0.026136</td>\n      <td>0.070225</td>\n      <td>0.042842</td>\n    </tr>\n    <tr>\n      <th>2</th>\n      <td>0.59</td>\n      <td>1.44</td>\n      <td>0.002669</td>\n      <td>0.000025</td>\n      <td>-0.000258</td>\n    </tr>\n    <tr>\n      <th>3</th>\n      <td>0.50</td>\n      <td>1.33</td>\n      <td>0.001469</td>\n      <td>0.013225</td>\n      <td>0.004408</td>\n    </tr>\n    <tr>\n      <th>4</th>\n      <td>0.36</td>\n      <td>1.21</td>\n      <td>0.031803</td>\n      <td>0.055225</td>\n      <td>0.041908</td>\n    </tr>\n    <tr>\n      <th>5</th>\n      <td>0.29</td>\n      <td>1.09</td>\n      <td>0.061669</td>\n      <td>0.126025</td>\n      <td>0.088158</td>\n    </tr>\n  </tbody>\n</table>\n</div>"
     },
     "execution_count": 39,
     "metadata": {},
     "output_type": "execute_result"
    }
   ],
   "source": [
    "df"
   ],
   "metadata": {
    "collapsed": false,
    "ExecuteTime": {
     "end_time": "2024-02-14T17:19:52.970124Z",
     "start_time": "2024-02-14T17:19:52.960588Z"
    }
   },
   "id": "aa7b7bcbc7affd9d",
   "execution_count": 39
  }
 ],
 "metadata": {
  "kernelspec": {
   "display_name": "Python 3",
   "language": "python",
   "name": "python3"
  },
  "language_info": {
   "codemirror_mode": {
    "name": "ipython",
    "version": 2
   },
   "file_extension": ".py",
   "mimetype": "text/x-python",
   "name": "python",
   "nbconvert_exporter": "python",
   "pygments_lexer": "ipython2",
   "version": "2.7.6"
  }
 },
 "nbformat": 4,
 "nbformat_minor": 5
}
