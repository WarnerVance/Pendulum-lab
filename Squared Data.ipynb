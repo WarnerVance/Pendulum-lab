{
 "cells": [
  {
   "cell_type": "code",
   "outputs": [
    {
     "data": {
      "text/plain": "   Square Root of Length  avg period\n0               0.887130        1.89\n1               0.833667        1.71\n2               0.768115        1.44\n3               0.707107        1.33\n4               0.600000        1.21\n5               0.538516        1.09",
      "text/html": "<div>\n<style scoped>\n    .dataframe tbody tr th:only-of-type {\n        vertical-align: middle;\n    }\n\n    .dataframe tbody tr th {\n        vertical-align: top;\n    }\n\n    .dataframe thead th {\n        text-align: right;\n    }\n</style>\n<table border=\"1\" class=\"dataframe\">\n  <thead>\n    <tr style=\"text-align: right;\">\n      <th></th>\n      <th>Square Root of Length</th>\n      <th>avg period</th>\n    </tr>\n  </thead>\n  <tbody>\n    <tr>\n      <th>0</th>\n      <td>0.887130</td>\n      <td>1.89</td>\n    </tr>\n    <tr>\n      <th>1</th>\n      <td>0.833667</td>\n      <td>1.71</td>\n    </tr>\n    <tr>\n      <th>2</th>\n      <td>0.768115</td>\n      <td>1.44</td>\n    </tr>\n    <tr>\n      <th>3</th>\n      <td>0.707107</td>\n      <td>1.33</td>\n    </tr>\n    <tr>\n      <th>4</th>\n      <td>0.600000</td>\n      <td>1.21</td>\n    </tr>\n    <tr>\n      <th>5</th>\n      <td>0.538516</td>\n      <td>1.09</td>\n    </tr>\n  </tbody>\n</table>\n</div>"
     },
     "execution_count": 1,
     "metadata": {},
     "output_type": "execute_result"
    }
   ],
   "source": [
    "import pandas as pd\n",
    "import math\n",
    "df = pd.read_csv(\"Squared Data.csv\")\n",
    "df"
   ],
   "metadata": {
    "collapsed": false,
    "ExecuteTime": {
     "end_time": "2024-02-15T05:53:43.936669Z",
     "start_time": "2024-02-15T05:53:43.922085Z"
    }
   },
   "id": "initial_id",
   "execution_count": 1
  },
  {
   "cell_type": "code",
   "outputs": [
    {
     "name": "stdout",
     "output_type": "stream",
     "text": [
      "0.7224224402166667 0.13463647880296103\n"
     ]
    },
    {
     "data": {
      "text/plain": "0.7224224402166667"
     },
     "execution_count": 2,
     "metadata": {},
     "output_type": "execute_result"
    }
   ],
   "source": [
    "length_mean = df.iloc[:,0].mean()\n",
    "length_std = df.iloc[:,0].std()\n",
    "print(length_mean, length_std)\n",
    "sum(df.iloc[0:6,0])/6"
   ],
   "metadata": {
    "collapsed": false,
    "ExecuteTime": {
     "end_time": "2024-02-15T05:53:43.943152Z",
     "start_time": "2024-02-15T05:53:43.937877Z"
    }
   },
   "id": "bad0b45685fe671c",
   "execution_count": 2
  },
  {
   "cell_type": "code",
   "outputs": [
    {
     "name": "stdout",
     "output_type": "stream",
     "text": [
      "1.445 0.3042203149035251\n"
     ]
    }
   ],
   "source": [
    "period_mean = df.iloc[:,1].mean()\n",
    "period_std = df.iloc[:,1].std()\n",
    "print(period_mean, period_std)"
   ],
   "metadata": {
    "collapsed": false,
    "ExecuteTime": {
     "end_time": "2024-02-15T05:53:43.976589Z",
     "start_time": "2024-02-15T05:53:43.942690Z"
    }
   },
   "id": "6dcdb2522458ce48",
   "execution_count": 3
  },
  {
   "cell_type": "code",
   "outputs": [],
   "source": [
    "x_variance = []\n",
    "y_variance = []\n",
    "for i in range(6):\n",
    "    x_variance.append((df.iloc[i,0] - length_mean)**2)\n",
    "for i in range(6):\n",
    "    y_variance.append((df.iloc[i,1] - period_mean)**2)"
   ],
   "metadata": {
    "collapsed": false,
    "ExecuteTime": {
     "end_time": "2024-02-15T05:53:44.019116Z",
     "start_time": "2024-02-15T05:53:43.946200Z"
    }
   },
   "id": "672a3f921c42523",
   "execution_count": 4
  },
  {
   "cell_type": "code",
   "outputs": [],
   "source": [
    "df['S_xx'] = x_variance\n",
    "df['S_yy'] = y_variance"
   ],
   "metadata": {
    "collapsed": false,
    "ExecuteTime": {
     "end_time": "2024-02-15T05:53:44.020446Z",
     "start_time": "2024-02-15T05:53:43.953190Z"
    }
   },
   "id": "995d003ac79860e2",
   "execution_count": 5
  },
  {
   "cell_type": "code",
   "outputs": [
    {
     "data": {
      "text/plain": "   Square Root of Length  avg period      S_xx      S_yy      S_xy\n0               0.887130        1.89  0.027129  0.198025  0.073295\n1               0.833667        1.71  0.012375  0.070225  0.029480\n2               0.768115        1.44  0.002088  0.000025 -0.000228\n3               0.707107        1.33  0.000235  0.013225  0.001761\n4               0.600000        1.21  0.014987  0.055225  0.028769\n5               0.538516        1.09  0.033821  0.126025  0.065287",
      "text/html": "<div>\n<style scoped>\n    .dataframe tbody tr th:only-of-type {\n        vertical-align: middle;\n    }\n\n    .dataframe tbody tr th {\n        vertical-align: top;\n    }\n\n    .dataframe thead th {\n        text-align: right;\n    }\n</style>\n<table border=\"1\" class=\"dataframe\">\n  <thead>\n    <tr style=\"text-align: right;\">\n      <th></th>\n      <th>Square Root of Length</th>\n      <th>avg period</th>\n      <th>S_xx</th>\n      <th>S_yy</th>\n      <th>S_xy</th>\n    </tr>\n  </thead>\n  <tbody>\n    <tr>\n      <th>0</th>\n      <td>0.887130</td>\n      <td>1.89</td>\n      <td>0.027129</td>\n      <td>0.198025</td>\n      <td>0.073295</td>\n    </tr>\n    <tr>\n      <th>1</th>\n      <td>0.833667</td>\n      <td>1.71</td>\n      <td>0.012375</td>\n      <td>0.070225</td>\n      <td>0.029480</td>\n    </tr>\n    <tr>\n      <th>2</th>\n      <td>0.768115</td>\n      <td>1.44</td>\n      <td>0.002088</td>\n      <td>0.000025</td>\n      <td>-0.000228</td>\n    </tr>\n    <tr>\n      <th>3</th>\n      <td>0.707107</td>\n      <td>1.33</td>\n      <td>0.000235</td>\n      <td>0.013225</td>\n      <td>0.001761</td>\n    </tr>\n    <tr>\n      <th>4</th>\n      <td>0.600000</td>\n      <td>1.21</td>\n      <td>0.014987</td>\n      <td>0.055225</td>\n      <td>0.028769</td>\n    </tr>\n    <tr>\n      <th>5</th>\n      <td>0.538516</td>\n      <td>1.09</td>\n      <td>0.033821</td>\n      <td>0.126025</td>\n      <td>0.065287</td>\n    </tr>\n  </tbody>\n</table>\n</div>"
     },
     "execution_count": 6,
     "metadata": {},
     "output_type": "execute_result"
    }
   ],
   "source": [
    "covariance = []\n",
    "for i in range(6):\n",
    "    covariance.append((df.iloc[i,0] - length_mean)*(df.iloc[i,1] - period_mean))\n",
    "df['S_xy'] = covariance\n",
    "#df.plot(kind='scatter', x='S_xx', y='S_yy')\n",
    "df"
   ],
   "metadata": {
    "collapsed": false,
    "ExecuteTime": {
     "end_time": "2024-02-15T05:53:44.084404Z",
     "start_time": "2024-02-15T05:53:43.956630Z"
    }
   },
   "id": "bf1d867d7a4e7bb4",
   "execution_count": 6
  },
  {
   "cell_type": "code",
   "outputs": [
    {
     "name": "stdout",
     "output_type": "stream",
     "text": [
      "The s_xx sum is 0.09063490712230088, the s_yy sum is 0.4627499999999999, and the s_xy sum is 0.19836338668649997\n"
     ]
    }
   ],
   "source": [
    "s_xx_sum = sum(df['S_xx'])\n",
    "s_yy_sum = sum(df['S_yy'])\n",
    "s_xy_sum = sum(df['S_xy'])\n",
    "print(f\"The s_xx sum is {s_xx_sum}, the s_yy sum is {s_yy_sum}, and the s_xy sum is {s_xy_sum}\")"
   ],
   "metadata": {
    "collapsed": false,
    "ExecuteTime": {
     "end_time": "2024-02-15T05:53:44.085559Z",
     "start_time": "2024-02-15T05:53:43.960046Z"
    }
   },
   "id": "ab989435b62e06d3",
   "execution_count": 7
  },
  {
   "cell_type": "code",
   "outputs": [
    {
     "name": "stdout",
     "output_type": "stream",
     "text": [
      "r is 0.9685912774195102 and r squared is 0.9381690626931586\n"
     ]
    }
   ],
   "source": [
    "r = s_xy_sum/(math.sqrt(s_xx_sum)*math.sqrt(s_yy_sum))\n",
    "r_squared = r ** 2\n",
    "print(f\"r is {r} and r squared is {r_squared}\")"
   ],
   "metadata": {
    "collapsed": false,
    "ExecuteTime": {
     "end_time": "2024-02-15T05:53:44.086488Z",
     "start_time": "2024-02-15T05:53:43.962961Z"
    }
   },
   "id": "34f580ea2afbe419",
   "execution_count": 8
  },
  {
   "cell_type": "code",
   "outputs": [
    {
     "data": {
      "text/plain": "<Axes: xlabel='Square Root of Length', ylabel='avg period'>"
     },
     "execution_count": 9,
     "metadata": {},
     "output_type": "execute_result"
    },
    {
     "data": {
      "text/plain": "<Figure size 640x480 with 1 Axes>",
      "image/png": "[encoded data removed]"
     },
     "metadata": {},
     "output_type": "display_data"
    }
   ],
   "source": [
    "# I wasn't able to plot the line of best fit on the graph\n",
    "\n",
    "df.plot(kind='scatter', x='Square Root of Length', y='avg period')"
   ],
   "metadata": {
    "collapsed": false,
    "ExecuteTime": {
     "end_time": "2024-02-15T05:53:44.325367Z",
     "start_time": "2024-02-15T05:53:43.966379Z"
    }
   },
   "id": "f43033f234b933f",
   "execution_count": 9
  },
  {
   "cell_type": "code",
   "outputs": [
    {
     "name": "stdout",
     "output_type": "stream",
     "text": [
      "2.1885981128532794 -0.13609238934105772\n"
     ]
    }
   ],
   "source": [
    "slope = s_xy_sum/s_xx_sum\n",
    "intercept = (period_mean)-(slope*length_mean)\n",
    "print(slope, intercept)"
   ],
   "metadata": {
    "collapsed": false,
    "ExecuteTime": {
     "end_time": "2024-02-15T05:53:44.326217Z",
     "start_time": "2024-02-15T05:53:44.320083Z"
    }
   },
   "id": "49c16de3e4da1e0e",
   "execution_count": 10
  },
  {
   "cell_type": "code",
   "outputs": [
    {
     "data": {
      "text/plain": "[0.007143782147735589,\n 0.0004635943748387354,\n 0.011025361102434275,\n 0.006639019338308477,\n 0.0010846168468937403,\n 0.0022558924285297345]"
     },
     "execution_count": 11,
     "metadata": {},
     "output_type": "execute_result"
    }
   ],
   "source": [
    "squared_error = []\n",
    "for i in range(6):\n",
    "    squared_error.append((df.iloc[i,1]-(slope*df.iloc[i,0]+intercept)) ** 2)\n",
    "squared_error"
   ],
   "metadata": {
    "collapsed": false,
    "ExecuteTime": {
     "end_time": "2024-02-15T05:53:44.350734Z",
     "start_time": "2024-02-15T05:53:44.324845Z"
    }
   },
   "id": "abbbc7a953f941f4",
   "execution_count": 11
  },
  {
   "cell_type": "code",
   "outputs": [
    {
     "data": {
      "text/plain": "0.028612266238740552"
     },
     "execution_count": 12,
     "metadata": {},
     "output_type": "execute_result"
    }
   ],
   "source": [
    "df['Squared Error'] = squared_error\n",
    "SSE = sum(df['Squared Error'])\n",
    "SSE"
   ],
   "metadata": {
    "collapsed": false,
    "ExecuteTime": {
     "end_time": "2024-02-15T05:53:44.416142Z",
     "start_time": "2024-02-15T05:53:44.338060Z"
    }
   },
   "id": "df7bebd3032517a0",
   "execution_count": 12
  },
  {
   "cell_type": "code",
   "outputs": [
    {
     "name": "stdout",
     "output_type": "stream",
     "text": [
      "r is 0.9685912774195102 and r squared is 0.9381690626931586\n",
      "The s_xx sum is 0.09063490712230088, the s_yy sum is 0.4627499999999999, and the s_xy sum is 0.19836338668649997\n",
      "\n",
      "SSE is 0.028612266238740552\n",
      "\n",
      "Slope is 2.1885981128532794\n",
      "Intercept is -0.13609238934105772\n"
     ]
    }
   ],
   "source": [
    "# This is my final data\n",
    "print(f\"r is {r} and r squared is {r_squared}\")\n",
    "print(f\"The s_xx sum is {s_xx_sum}, the s_yy sum is {s_yy_sum}, and the s_xy sum is {s_xy_sum}\\n\")\n",
    "print(f'SSE is {SSE}\\n')\n",
    "print(f'Slope is {slope}')\n",
    "print(f'Intercept is {intercept}')"
   ],
   "metadata": {
    "collapsed": false,
    "ExecuteTime": {
     "end_time": "2024-02-15T05:53:44.416918Z",
     "start_time": "2024-02-15T05:53:44.355107Z"
    }
   },
   "id": "412576d0f779bdef",
   "execution_count": 13
  },
  {
   "cell_type": "code",
   "outputs": [
    {
     "data": {
      "text/plain": "   Square Root of Length  avg period      S_xx      S_yy      S_xy  \\\n0               0.887130        1.89  0.027129  0.198025  0.073295   \n1               0.833667        1.71  0.012375  0.070225  0.029480   \n2               0.768115        1.44  0.002088  0.000025 -0.000228   \n3               0.707107        1.33  0.000235  0.013225  0.001761   \n4               0.600000        1.21  0.014987  0.055225  0.028769   \n5               0.538516        1.09  0.033821  0.126025  0.065287   \n\n   Squared Error  \n0       0.007144  \n1       0.000464  \n2       0.011025  \n3       0.006639  \n4       0.001085  \n5       0.002256  ",
      "text/html": "<div>\n<style scoped>\n    .dataframe tbody tr th:only-of-type {\n        vertical-align: middle;\n    }\n\n    .dataframe tbody tr th {\n        vertical-align: top;\n    }\n\n    .dataframe thead th {\n        text-align: right;\n    }\n</style>\n<table border=\"1\" class=\"dataframe\">\n  <thead>\n    <tr style=\"text-align: right;\">\n      <th></th>\n      <th>Square Root of Length</th>\n      <th>avg period</th>\n      <th>S_xx</th>\n      <th>S_yy</th>\n      <th>S_xy</th>\n      <th>Squared Error</th>\n    </tr>\n  </thead>\n  <tbody>\n    <tr>\n      <th>0</th>\n      <td>0.887130</td>\n      <td>1.89</td>\n      <td>0.027129</td>\n      <td>0.198025</td>\n      <td>0.073295</td>\n      <td>0.007144</td>\n    </tr>\n    <tr>\n      <th>1</th>\n      <td>0.833667</td>\n      <td>1.71</td>\n      <td>0.012375</td>\n      <td>0.070225</td>\n      <td>0.029480</td>\n      <td>0.000464</td>\n    </tr>\n    <tr>\n      <th>2</th>\n      <td>0.768115</td>\n      <td>1.44</td>\n      <td>0.002088</td>\n      <td>0.000025</td>\n      <td>-0.000228</td>\n      <td>0.011025</td>\n    </tr>\n    <tr>\n      <th>3</th>\n      <td>0.707107</td>\n      <td>1.33</td>\n      <td>0.000235</td>\n      <td>0.013225</td>\n      <td>0.001761</td>\n      <td>0.006639</td>\n    </tr>\n    <tr>\n      <th>4</th>\n      <td>0.600000</td>\n      <td>1.21</td>\n      <td>0.014987</td>\n      <td>0.055225</td>\n      <td>0.028769</td>\n      <td>0.001085</td>\n    </tr>\n    <tr>\n      <th>5</th>\n      <td>0.538516</td>\n      <td>1.09</td>\n      <td>0.033821</td>\n      <td>0.126025</td>\n      <td>0.065287</td>\n      <td>0.002256</td>\n    </tr>\n  </tbody>\n</table>\n</div>"
     },
     "execution_count": 14,
     "metadata": {},
     "output_type": "execute_result"
    }
   ],
   "source": [
    "df"
   ],
   "metadata": {
    "collapsed": false,
    "ExecuteTime": {
     "end_time": "2024-02-15T05:53:44.418462Z",
     "start_time": "2024-02-15T05:53:44.362671Z"
    }
   },
   "id": "cdd10fe7b13acef9",
   "execution_count": 14
  },
  {
   "cell_type": "code",
   "outputs": [
    {
     "data": {
      "text/plain": "<Axes: xlabel='Square Root of Length', ylabel='avg period'>"
     },
     "execution_count": 18,
     "metadata": {},
     "output_type": "execute_result"
    },
    {
     "data": {
      "text/plain": "<Figure size 640x480 with 1 Axes>",
      "image/png": "[encoded data removed]"
     },
     "metadata": {},
     "output_type": "display_data"
    }
   ],
   "source": [
    "import seaborn as sns\n",
    "sns.regplot(data=df, x=\"Square Root of Length\", y=\"avg period\", ci=None, label=\"Hello\")"
   ],
   "metadata": {
    "collapsed": false,
    "ExecuteTime": {
     "end_time": "2024-02-15T05:54:19.657215Z",
     "start_time": "2024-02-15T05:54:19.493547Z"
    }
   },
   "id": "2ae11ef59a63cd1b",
   "execution_count": 18
  }
 ],
 "metadata": {
  "kernelspec": {
   "display_name": "Python 3",
   "language": "python",
   "name": "python3"
  },
  "language_info": {
   "codemirror_mode": {
    "name": "ipython",
    "version": 2
   },
   "file_extension": ".py",
   "mimetype": "text/x-python",
   "name": "python",
   "nbconvert_exporter": "python",
   "pygments_lexer": "ipython2",
   "version": "2.7.6"
  }
 },
 "nbformat": 4,
 "nbformat_minor": 5
}
