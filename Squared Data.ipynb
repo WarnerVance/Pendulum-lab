{
 "cells": [
  {
   "cell_type": "code",
   "outputs": [
    {
     "data": {
      "text/plain": "   Square Root of Length  avg period\n0               0.887130        1.89\n1               0.833667        1.71\n2               0.768115        1.44\n3               0.707107        1.33\n4               0.600000        1.21\n5               0.538516        1.09",
      "text/html": "<div>\n<style scoped>\n    .dataframe tbody tr th:only-of-type {\n        vertical-align: middle;\n    }\n\n    .dataframe tbody tr th {\n        vertical-align: top;\n    }\n\n    .dataframe thead th {\n        text-align: right;\n    }\n</style>\n<table border=\"1\" class=\"dataframe\">\n  <thead>\n    <tr style=\"text-align: right;\">\n      <th></th>\n      <th>Square Root of Length</th>\n      <th>avg period</th>\n    </tr>\n  </thead>\n  <tbody>\n    <tr>\n      <th>0</th>\n      <td>0.887130</td>\n      <td>1.89</td>\n    </tr>\n    <tr>\n      <th>1</th>\n      <td>0.833667</td>\n      <td>1.71</td>\n    </tr>\n    <tr>\n      <th>2</th>\n      <td>0.768115</td>\n      <td>1.44</td>\n    </tr>\n    <tr>\n      <th>3</th>\n      <td>0.707107</td>\n      <td>1.33</td>\n    </tr>\n    <tr>\n      <th>4</th>\n      <td>0.600000</td>\n      <td>1.21</td>\n    </tr>\n    <tr>\n      <th>5</th>\n      <td>0.538516</td>\n      <td>1.09</td>\n    </tr>\n  </tbody>\n</table>\n</div>"
     },
     "execution_count": 30,
     "metadata": {},
     "output_type": "execute_result"
    }
   ],
   "source": [
    "import pandas as pd\n",
    "import matplotlib.pyplot as plt\n",
    "import numpy as np\n",
    "import math\n",
    "df = pd.read_csv(\"Copy of Simple Pendulum - Linearization - Sheet3.csv\")\n",
    "df"
   ],
   "metadata": {
    "collapsed": false,
    "ExecuteTime": {
     "end_time": "2024-02-14T23:28:09.774184Z",
     "start_time": "2024-02-14T23:28:09.763885Z"
    }
   },
   "id": "initial_id",
   "execution_count": 30
  },
  {
   "cell_type": "code",
   "outputs": [
    {
     "name": "stdout",
     "output_type": "stream",
     "text": [
      "0.7224224402166667 0.13463647880296103\n"
     ]
    },
    {
     "data": {
      "text/plain": "0.7224224402166667"
     },
     "execution_count": 31,
     "metadata": {},
     "output_type": "execute_result"
    }
   ],
   "source": [
    "length_mean = df.iloc[:,0].mean()\n",
    "length_std = df.iloc[:,0].std()\n",
    "print(length_mean, length_std)\n",
    "sum(df.iloc[0:6,0])/6"
   ],
   "metadata": {
    "collapsed": false,
    "ExecuteTime": {
     "end_time": "2024-02-14T23:28:09.777Z",
     "start_time": "2024-02-14T23:28:09.772713Z"
    }
   },
   "id": "bad0b45685fe671c",
   "execution_count": 31
  },
  {
   "cell_type": "code",
   "outputs": [
    {
     "name": "stdout",
     "output_type": "stream",
     "text": [
      "1.445 0.3042203149035251\n"
     ]
    }
   ],
   "source": [
    "period_mean = df.iloc[:,1].mean()\n",
    "period_std = df.iloc[:,1].std()\n",
    "print(period_mean, period_std)"
   ],
   "metadata": {
    "collapsed": false,
    "ExecuteTime": {
     "end_time": "2024-02-14T23:28:09.797731Z",
     "start_time": "2024-02-14T23:28:09.777237Z"
    }
   },
   "id": "6dcdb2522458ce48",
   "execution_count": 32
  },
  {
   "cell_type": "code",
   "outputs": [],
   "source": [
    "x_variance = []\n",
    "y_variance = []\n",
    "for i in range(6):\n",
    "    x_variance.append((df.iloc[i,0] - length_mean)**2)\n",
    "for i in range(6):\n",
    "    y_variance.append((df.iloc[i,1] - period_mean)**2)"
   ],
   "metadata": {
    "collapsed": false,
    "ExecuteTime": {
     "end_time": "2024-02-14T23:28:09.797971Z",
     "start_time": "2024-02-14T23:28:09.781038Z"
    }
   },
   "id": "672a3f921c42523",
   "execution_count": 33
  },
  {
   "cell_type": "code",
   "outputs": [],
   "source": [
    "df['S_xx'] = x_variance\n",
    "df['S_yy'] = y_variance"
   ],
   "metadata": {
    "collapsed": false,
    "ExecuteTime": {
     "end_time": "2024-02-14T23:28:09.836187Z",
     "start_time": "2024-02-14T23:28:09.800406Z"
    }
   },
   "id": "995d003ac79860e2",
   "execution_count": 34
  },
  {
   "cell_type": "code",
   "outputs": [
    {
     "data": {
      "text/plain": "   Square Root of Length  avg period      S_xx      S_yy      S_xy\n0               0.887130        1.89  0.027129  0.198025  0.073295\n1               0.833667        1.71  0.012375  0.070225  0.029480\n2               0.768115        1.44  0.002088  0.000025 -0.000228\n3               0.707107        1.33  0.000235  0.013225  0.001761\n4               0.600000        1.21  0.014987  0.055225  0.028769\n5               0.538516        1.09  0.033821  0.126025  0.065287",
      "text/html": "<div>\n<style scoped>\n    .dataframe tbody tr th:only-of-type {\n        vertical-align: middle;\n    }\n\n    .dataframe tbody tr th {\n        vertical-align: top;\n    }\n\n    .dataframe thead th {\n        text-align: right;\n    }\n</style>\n<table border=\"1\" class=\"dataframe\">\n  <thead>\n    <tr style=\"text-align: right;\">\n      <th></th>\n      <th>Square Root of Length</th>\n      <th>avg period</th>\n      <th>S_xx</th>\n      <th>S_yy</th>\n      <th>S_xy</th>\n    </tr>\n  </thead>\n  <tbody>\n    <tr>\n      <th>0</th>\n      <td>0.887130</td>\n      <td>1.89</td>\n      <td>0.027129</td>\n      <td>0.198025</td>\n      <td>0.073295</td>\n    </tr>\n    <tr>\n      <th>1</th>\n      <td>0.833667</td>\n      <td>1.71</td>\n      <td>0.012375</td>\n      <td>0.070225</td>\n      <td>0.029480</td>\n    </tr>\n    <tr>\n      <th>2</th>\n      <td>0.768115</td>\n      <td>1.44</td>\n      <td>0.002088</td>\n      <td>0.000025</td>\n      <td>-0.000228</td>\n    </tr>\n    <tr>\n      <th>3</th>\n      <td>0.707107</td>\n      <td>1.33</td>\n      <td>0.000235</td>\n      <td>0.013225</td>\n      <td>0.001761</td>\n    </tr>\n    <tr>\n      <th>4</th>\n      <td>0.600000</td>\n      <td>1.21</td>\n      <td>0.014987</td>\n      <td>0.055225</td>\n      <td>0.028769</td>\n    </tr>\n    <tr>\n      <th>5</th>\n      <td>0.538516</td>\n      <td>1.09</td>\n      <td>0.033821</td>\n      <td>0.126025</td>\n      <td>0.065287</td>\n    </tr>\n  </tbody>\n</table>\n</div>"
     },
     "execution_count": 35,
     "metadata": {},
     "output_type": "execute_result"
    }
   ],
   "source": [
    "covariance = []\n",
    "for i in range(6):\n",
    "    covariance.append((df.iloc[i,0] - length_mean)*(df.iloc[i,1] - period_mean))\n",
    "df['S_xy'] = covariance\n",
    "#df.plot(kind='scatter', x='S_xx', y='S_yy')\n",
    "df"
   ],
   "metadata": {
    "collapsed": false,
    "ExecuteTime": {
     "end_time": "2024-02-14T23:28:09.867372Z",
     "start_time": "2024-02-14T23:28:09.830192Z"
    }
   },
   "id": "bf1d867d7a4e7bb4",
   "execution_count": 35
  },
  {
   "cell_type": "code",
   "outputs": [
    {
     "name": "stdout",
     "output_type": "stream",
     "text": [
      "The s_xx sum is 0.09063490712230088, the s_yy sum is 0.4627499999999999, and the s_xy sum is 0.19836338668649997\n"
     ]
    }
   ],
   "source": [
    "s_xx_sum = sum(df['S_xx'])\n",
    "s_yy_sum = sum(df['S_yy'])\n",
    "s_xy_sum = sum(df['S_xy'])\n",
    "print(f\"The s_xx sum is {s_xx_sum}, the s_yy sum is {s_yy_sum}, and the s_xy sum is {s_xy_sum}\")"
   ],
   "metadata": {
    "collapsed": false,
    "ExecuteTime": {
     "end_time": "2024-02-14T23:28:09.890785Z",
     "start_time": "2024-02-14T23:28:09.845454Z"
    }
   },
   "id": "ab989435b62e06d3",
   "execution_count": 36
  },
  {
   "cell_type": "code",
   "outputs": [
    {
     "name": "stdout",
     "output_type": "stream",
     "text": [
      "r is 0.9685912774195102 and r squared is 0.9381690626931586\n"
     ]
    }
   ],
   "source": [
    "r = s_xy_sum/(math.sqrt(s_xx_sum)*math.sqrt(s_yy_sum))\n",
    "r_squared = r ** 2\n",
    "print(f\"r is {r} and r squared is {r_squared}\")"
   ],
   "metadata": {
    "collapsed": false,
    "ExecuteTime": {
     "end_time": "2024-02-14T23:28:09.919586Z",
     "start_time": "2024-02-14T23:28:09.893225Z"
    }
   },
   "id": "34f580ea2afbe419",
   "execution_count": 37
  },
  {
   "cell_type": "code",
   "outputs": [
    {
     "name": "stdout",
     "output_type": "stream",
     "text": [
      "2.1885981128532794 -0.13609238934105772\n"
     ]
    }
   ],
   "source": [
    "slope = s_xy_sum/s_xx_sum\n",
    "intercept = (period_mean)-(slope*length_mean)\n",
    "print(slope, intercept)"
   ],
   "metadata": {
    "collapsed": false,
    "ExecuteTime": {
     "end_time": "2024-02-14T23:28:09.959817Z",
     "start_time": "2024-02-14T23:28:09.914601Z"
    }
   },
   "id": "49c16de3e4da1e0e",
   "execution_count": 38
  },
  {
   "cell_type": "code",
   "outputs": [
    {
     "data": {
      "text/plain": "[0.8433646979098284,\n 0.7306867296082468,\n 0.6035536356332475,\n 0.4961418815265147,\n 0.3330057204594039,\n 0.2540031817879395]"
     },
     "execution_count": 39,
     "metadata": {},
     "output_type": "execute_result"
    }
   ],
   "source": [
    "squared_error = []\n",
    "for i in range(6):\n",
    "    squared_error.append((df.iloc[i,0]-(slope*df.iloc[i,0])-intercept)**2)\n",
    "squared_error"
   ],
   "metadata": {
    "collapsed": false,
    "ExecuteTime": {
     "end_time": "2024-02-14T23:28:09.973501Z",
     "start_time": "2024-02-14T23:28:09.925074Z"
    }
   },
   "id": "abbbc7a953f941f4",
   "execution_count": 39
  },
  {
   "cell_type": "code",
   "outputs": [
    {
     "data": {
      "text/plain": "3.2607558469251807"
     },
     "execution_count": 40,
     "metadata": {},
     "output_type": "execute_result"
    }
   ],
   "source": [
    "df['Squared Error'] = squared_error\n",
    "SSE = sum(df['Squared Error'])\n",
    "SSE"
   ],
   "metadata": {
    "collapsed": false,
    "ExecuteTime": {
     "end_time": "2024-02-14T23:28:09.998659Z",
     "start_time": "2024-02-14T23:28:09.979165Z"
    }
   },
   "id": "df7bebd3032517a0",
   "execution_count": 40
  },
  {
   "cell_type": "code",
   "outputs": [
    {
     "name": "stdout",
     "output_type": "stream",
     "text": [
      "\n",
      "r is 0.9685912774195102 and r squared is 0.9381690626931586\n",
      "The s_xx sum is 0.09063490712230088, the s_yy sum is 0.4627499999999999, and the s_xy sum is 0.19836338668649997\n"
     ]
    },
    {
     "data": {
      "text/plain": "   Square Root of Length  avg period      S_xx      S_yy      S_xy  \\\n0               0.887130        1.89  0.027129  0.198025  0.073295   \n1               0.833667        1.71  0.012375  0.070225  0.029480   \n2               0.768115        1.44  0.002088  0.000025 -0.000228   \n3               0.707107        1.33  0.000235  0.013225  0.001761   \n4               0.600000        1.21  0.014987  0.055225  0.028769   \n5               0.538516        1.09  0.033821  0.126025  0.065287   \n\n   Squared Error  \n0       0.843365  \n1       0.730687  \n2       0.603554  \n3       0.496142  \n4       0.333006  \n5       0.254003  ",
      "text/html": "<div>\n<style scoped>\n    .dataframe tbody tr th:only-of-type {\n        vertical-align: middle;\n    }\n\n    .dataframe tbody tr th {\n        vertical-align: top;\n    }\n\n    .dataframe thead th {\n        text-align: right;\n    }\n</style>\n<table border=\"1\" class=\"dataframe\">\n  <thead>\n    <tr style=\"text-align: right;\">\n      <th></th>\n      <th>Square Root of Length</th>\n      <th>avg period</th>\n      <th>S_xx</th>\n      <th>S_yy</th>\n      <th>S_xy</th>\n      <th>Squared Error</th>\n    </tr>\n  </thead>\n  <tbody>\n    <tr>\n      <th>0</th>\n      <td>0.887130</td>\n      <td>1.89</td>\n      <td>0.027129</td>\n      <td>0.198025</td>\n      <td>0.073295</td>\n      <td>0.843365</td>\n    </tr>\n    <tr>\n      <th>1</th>\n      <td>0.833667</td>\n      <td>1.71</td>\n      <td>0.012375</td>\n      <td>0.070225</td>\n      <td>0.029480</td>\n      <td>0.730687</td>\n    </tr>\n    <tr>\n      <th>2</th>\n      <td>0.768115</td>\n      <td>1.44</td>\n      <td>0.002088</td>\n      <td>0.000025</td>\n      <td>-0.000228</td>\n      <td>0.603554</td>\n    </tr>\n    <tr>\n      <th>3</th>\n      <td>0.707107</td>\n      <td>1.33</td>\n      <td>0.000235</td>\n      <td>0.013225</td>\n      <td>0.001761</td>\n      <td>0.496142</td>\n    </tr>\n    <tr>\n      <th>4</th>\n      <td>0.600000</td>\n      <td>1.21</td>\n      <td>0.014987</td>\n      <td>0.055225</td>\n      <td>0.028769</td>\n      <td>0.333006</td>\n    </tr>\n    <tr>\n      <th>5</th>\n      <td>0.538516</td>\n      <td>1.09</td>\n      <td>0.033821</td>\n      <td>0.126025</td>\n      <td>0.065287</td>\n      <td>0.254003</td>\n    </tr>\n  </tbody>\n</table>\n</div>"
     },
     "execution_count": 41,
     "metadata": {},
     "output_type": "execute_result"
    }
   ],
   "source": [
    "# This is my final data\n",
    "print()\n",
    "print(f\"r is {r} and r squared is {r_squared}\")\n",
    "print(f\"The s_xx sum is {s_xx_sum}, the s_yy sum is {s_yy_sum}, and the s_xy sum is {s_xy_sum}\")\n",
    "df"
   ],
   "metadata": {
    "collapsed": false,
    "ExecuteTime": {
     "end_time": "2024-02-14T23:28:10.096085Z",
     "start_time": "2024-02-14T23:28:10.006702Z"
    }
   },
   "id": "412576d0f779bdef",
   "execution_count": 41
  },
  {
   "cell_type": "code",
   "outputs": [
    {
     "data": {
      "text/plain": "<Axes: xlabel='Square Root of Length', ylabel='avg period'>"
     },
     "execution_count": 42,
     "metadata": {},
     "output_type": "execute_result"
    },
    {
     "data": {
      "text/plain": "<Figure size 640x480 with 1 Axes>",
      "image/png": "[encoded data removed]"
     },
     "metadata": {},
     "output_type": "display_data"
    }
   ],
   "source": [
    "df.plot(kind='scatter', x='Square Root of Length', y='avg period')\n",
    "# I wasn't able to find out the line of best fit"
   ],
   "metadata": {
    "collapsed": false,
    "ExecuteTime": {
     "end_time": "2024-02-14T23:28:10.217414Z",
     "start_time": "2024-02-14T23:28:10.034547Z"
    }
   },
   "id": "cdd10fe7b13acef9",
   "execution_count": 42
  }
 ],
 "metadata": {
  "kernelspec": {
   "display_name": "Python 3",
   "language": "python",
   "name": "python3"
  },
  "language_info": {
   "codemirror_mode": {
    "name": "ipython",
    "version": 2
   },
   "file_extension": ".py",
   "mimetype": "text/x-python",
   "name": "python",
   "nbconvert_exporter": "python",
   "pygments_lexer": "ipython2",
   "version": "2.7.6"
  }
 },
 "nbformat": 4,
 "nbformat_minor": 5
}
